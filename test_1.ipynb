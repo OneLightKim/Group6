{
 "cells": [
  {
   "cell_type": "code",
   "execution_count": 1,
   "id": "becbded3-728b-43f8-8d1b-7d1b609be7d3",
   "metadata": {},
   "outputs": [
    {
     "name": "stdout",
     "output_type": "stream",
     "text": [
      "hello git\n"
     ]
    }
   ],
   "source": [
    "print(\"hello git kwangil\")"
   ]
  },
  {
   "cell_type": "code",
   "execution_count": null,
   "id": "7f0767a7-9489-4698-9798-922b9dec5fb6",
   "metadata": {},
   "outputs": [],
   "source": []
  }
 ],
 "metadata": {
  "kernelspec": {
   "display_name": "deeplearning",
   "language": "python",
   "name": "deeplearning"
  },
  "language_info": {
   "codemirror_mode": {
    "name": "ipython",
    "version": 3
   },
   "file_extension": ".py",
   "mimetype": "text/x-python",
   "name": "python",
   "nbconvert_exporter": "python",
   "pygments_lexer": "ipython3",
   "version": "3.9.13"
  }
 },
 "nbformat": 4,
 "nbformat_minor": 5
}
